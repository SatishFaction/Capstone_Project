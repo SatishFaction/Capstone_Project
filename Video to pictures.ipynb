{
 "cells": [
  {
   "cell_type": "code",
   "execution_count": null,
   "metadata": {},
   "outputs": [],
   "source": [
    "import cv2\n",
    "import os"
   ]
  },
  {
   "cell_type": "markdown",
   "metadata": {},
   "source": [
    "### extracts every 6th fame from the video"
   ]
  },
  {
   "cell_type": "code",
   "execution_count": null,
   "metadata": {},
   "outputs": [],
   "source": [
    "# Read the video from specified path \n",
    "cam = cv2.VideoCapture(\"C:\\\\Users\\\\ethic\\\\Documents\\\\VID_20201019_223312.mp4\") \n",
    "names=input(\"Who's Video is this ?\")\n",
    "path = input(\"paste the path to where the pictures needs to be saved\")\n",
    "#print(path)\n",
    "\n",
    "currentframe = 0\n",
    "frame_no = 0\n",
    "os.chdir(path)\n",
    "\n",
    "while True: \n",
    "    \n",
    "    # reading from frame \n",
    "    ret,frame = cam.read()\n",
    "    #cv2.imshow(\"video\",frame)\n",
    "    #print(ret)\n",
    "\n",
    "    if ret==True:\n",
    "        print (frame_no)\n",
    "        if frame_no%6 == 1:\n",
    "            name = names + str(currentframe) + '.jpg'\n",
    "            print ('Creating...' + name)\n",
    "            cv2.imwrite(name, frame) \n",
    "        frame_no = frame_no+1\n",
    "        \n",
    "        currentframe += 1\n",
    "    else:\n",
    "        break\n",
    "\n",
    "# Release all space and windows once done \n",
    "cam.release() \n",
    "cv2.destroyAllWindows() \n"
   ]
  }
 ],
 "metadata": {
  "kernelspec": {
   "display_name": "Python 3",
   "language": "python",
   "name": "python3"
  },
  "language_info": {
   "codemirror_mode": {
    "name": "ipython",
    "version": 3
   },
   "file_extension": ".py",
   "mimetype": "text/x-python",
   "name": "python",
   "nbconvert_exporter": "python",
   "pygments_lexer": "ipython3",
   "version": "3.7.4"
  }
 },
 "nbformat": 4,
 "nbformat_minor": 2
}
